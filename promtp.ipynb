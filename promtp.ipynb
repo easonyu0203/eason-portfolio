{
 "cells": [
  {
   "cell_type": "markdown",
   "metadata": {},
   "source": [
    "You are developing a personal portfolio website for job seeking. You are a software developer and specializing in Machine Learning and Web Development.\n",
    "You are using Sveltekit and Tailwind daisy UI to develop your personal portfolio website.\n",
    "\n",
    "How to ensure your personal portfolio website is responsive"
   ]
  },
  {
   "cell_type": "code",
   "execution_count": null,
   "metadata": {},
   "outputs": [],
   "source": []
  }
 ],
 "metadata": {
  "language_info": {
   "name": "python"
  },
  "orig_nbformat": 4
 },
 "nbformat": 4,
 "nbformat_minor": 2
}
